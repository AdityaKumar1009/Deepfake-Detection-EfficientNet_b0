{
  "nbformat": 4,
  "nbformat_minor": 0,
  "metadata": {
    "colab": {
      "provenance": [],
      "gpuType": "T4"
    },
    "kernelspec": {
      "name": "python3",
      "display_name": "Python 3"
    },
    "language_info": {
      "name": "python"
    },
    "accelerator": "GPU"
  },
  "cells": [
    {
      "cell_type": "code",
      "execution_count": 1,
      "metadata": {
        "colab": {
          "base_uri": "https://localhost:8080/"
        },
        "id": "xUy0P66wcxZC",
        "outputId": "155c4997-2ee8-46f4-bdaa-2562c3fd7864"
      },
      "outputs": [
        {
          "output_type": "stream",
          "name": "stdout",
          "text": [
            "Mounted at /content/drive\n"
          ]
        }
      ],
      "source": [
        "from google.colab import drive\n",
        "drive.mount('/content/drive')"
      ]
    },
    {
      "cell_type": "code",
      "source": [
        "import os\n",
        "\n",
        "base_dir = \"/content/drive/MyDrive/deepfake_dataset\"\n",
        "\n",
        "# Create a new folder for structured dataset\n",
        "train_data_path = os.path.join(base_dir, \"train_data\")\n",
        "os.makedirs(train_data_path, exist_ok=True)\n",
        "\n",
        "# Create symlinks\n",
        "os.symlink(os.path.join(base_dir, \"real_frames/real_frames\"), os.path.join(train_data_path, \"real\"))\n",
        "os.symlink(os.path.join(base_dir, \"fake_frames/fake_frames\"), os.path.join(train_data_path, \"fake\"))\n",
        "\n",
        "print(\"Symlinks created successfully!\")\n"
      ],
      "metadata": {
        "colab": {
          "base_uri": "https://localhost:8080/"
        },
        "id": "dMhe8rA8dHrH",
        "outputId": "bde74358-9700-448a-c27b-9558afd9f389"
      },
      "execution_count": 7,
      "outputs": [
        {
          "output_type": "stream",
          "name": "stdout",
          "text": [
            "Symlinks created successfully!\n"
          ]
        }
      ]
    },
    {
      "cell_type": "code",
      "source": [
        "dataset_path = \"/content/drive/MyDrive/deepfake_dataset/train_data\""
      ],
      "metadata": {
        "id": "asdMDUxBoUQN"
      },
      "execution_count": 8,
      "outputs": []
    },
    {
      "cell_type": "code",
      "source": [
        "from torchvision import datasets, transforms\n",
        "from torch.utils.data import DataLoader\n",
        "\n",
        "# Define transformations\n",
        "transform = transforms.Compose([\n",
        "    transforms.Resize((224, 224)),\n",
        "    transforms.ToTensor(),\n",
        "    transforms.Normalize(mean=[0.5, 0.5, 0.5], std=[0.5, 0.5, 0.5])\n",
        "])\n",
        "\n",
        "# Load dataset with correct path\n",
        "dataset = datasets.ImageFolder(root=dataset_path, transform=transform)\n",
        "\n",
        "# Split into train/validation\n",
        "train_size = int(0.8 * len(dataset))\n",
        "val_size = len(dataset) - train_size\n",
        "train_dataset, val_dataset = torch.utils.data.random_split(dataset, [train_size, val_size])\n",
        "\n",
        "# Create DataLoaders\n",
        "train_loader = DataLoader(train_dataset, batch_size=32, shuffle=True, num_workers=2)\n",
        "val_loader = DataLoader(val_dataset, batch_size=32, shuffle=False, num_workers=2)\n",
        "\n",
        "# Check class labels\n",
        "print(\"Class to Index Mapping:\", dataset.class_to_idx)\n"
      ],
      "metadata": {
        "colab": {
          "base_uri": "https://localhost:8080/"
        },
        "id": "PFgzJ3syofNz",
        "outputId": "dc4957ad-7fc8-4678-d183-469b56ac3200"
      },
      "execution_count": 9,
      "outputs": [
        {
          "output_type": "stream",
          "name": "stdout",
          "text": [
            "Class to Index Mapping: {'fake': 0, 'real': 1}\n"
          ]
        }
      ]
    },
    {
      "cell_type": "code",
      "source": [
        "import torch\n",
        "import torch.nn as nn\n",
        "import torch.optim as optim\n",
        "from torchvision import models\n",
        "from tqdm import tqdm  # For progress bar\n",
        "\n",
        "# Check if GPU is available\n",
        "device = torch.device(\"cuda\" if torch.cuda.is_available() else \"cpu\")\n",
        "print(f\"Using Device: {device}\")\n",
        "\n",
        "# Load Pretrained EfficientNet-B0\n",
        "model = models.efficientnet_b0(pretrained=True)\n",
        "\n",
        "# Modify the last classification layer for binary classification\n",
        "num_ftrs = model.classifier[1].in_features\n",
        "model.classifier = nn.Sequential(\n",
        "    nn.Linear(num_ftrs, 1),  # Output 1 neuron (for binary classification)\n",
        "    nn.Sigmoid()  # Sigmoid for binary probability output\n",
        ")\n",
        "\n",
        "# Move model to GPU\n",
        "model = model.to(device)"
      ],
      "metadata": {
        "colab": {
          "base_uri": "https://localhost:8080/"
        },
        "id": "c9o1eADhrPyS",
        "outputId": "92e19083-0a63-4fc8-9412-b68bf028c8b6"
      },
      "execution_count": 10,
      "outputs": [
        {
          "output_type": "stream",
          "name": "stdout",
          "text": [
            "Using Device: cuda\n"
          ]
        },
        {
          "output_type": "stream",
          "name": "stderr",
          "text": [
            "/usr/local/lib/python3.11/dist-packages/torchvision/models/_utils.py:208: UserWarning: The parameter 'pretrained' is deprecated since 0.13 and may be removed in the future, please use 'weights' instead.\n",
            "  warnings.warn(\n",
            "/usr/local/lib/python3.11/dist-packages/torchvision/models/_utils.py:223: UserWarning: Arguments other than a weight enum or `None` for 'weights' are deprecated since 0.13 and may be removed in the future. The current behavior is equivalent to passing `weights=EfficientNet_B0_Weights.IMAGENET1K_V1`. You can also use `weights=EfficientNet_B0_Weights.DEFAULT` to get the most up-to-date weights.\n",
            "  warnings.warn(msg)\n",
            "Downloading: \"https://download.pytorch.org/models/efficientnet_b0_rwightman-7f5810bc.pth\" to /root/.cache/torch/hub/checkpoints/efficientnet_b0_rwightman-7f5810bc.pth\n",
            "100%|██████████| 20.5M/20.5M [00:00<00:00, 96.2MB/s]\n"
          ]
        }
      ]
    },
    {
      "cell_type": "code",
      "source": [
        "# Loss Function: Binary Cross-Entropy (since it's binary classification)\n",
        "criterion = nn.BCELoss()\n",
        "\n",
        "# Optimizer: Adam (adjusts learning rate dynamically)\n",
        "optimizer = optim.Adam(model.parameters(), lr=1e-4)\n"
      ],
      "metadata": {
        "id": "tczxEuZkrjD5"
      },
      "execution_count": 11,
      "outputs": []
    },
    {
      "cell_type": "code",
      "source": [
        "def train_one_epoch(model, train_loader, optimizer, criterion, device):\n",
        "    \"\"\"Trains the model for one epoch\"\"\"\n",
        "    model.train()  # Set to training mode\n",
        "    running_loss = 0.0\n",
        "    correct, total = 0, 0\n",
        "\n",
        "    for images, labels in tqdm(train_loader):\n",
        "        images, labels = images.to(device), labels.float().to(device)  # Move to GPU\n",
        "        labels = labels.view(-1, 1)  # Reshape for BCE Loss\n",
        "\n",
        "        optimizer.zero_grad()\n",
        "        outputs = model(images)\n",
        "        loss = criterion(outputs, labels)\n",
        "        loss.backward()\n",
        "        optimizer.step()\n",
        "\n",
        "        running_loss += loss.item()\n",
        "        predicted = (outputs > 0.5).float()  # Convert probability to binary (0 or 1)\n",
        "        correct += (predicted == labels).sum().item()\n",
        "        total += labels.size(0)\n",
        "\n",
        "    train_loss = running_loss / len(train_loader)\n",
        "    train_acc = correct / total\n",
        "    return train_loss, train_acc\n",
        "\n",
        "def validate(model, val_loader, criterion, device):\n",
        "    \"\"\"Validates the model on the validation dataset\"\"\"\n",
        "    model.eval()  # Set to evaluation mode\n",
        "    val_loss = 0.0\n",
        "    val_correct, val_total = 0, 0\n",
        "\n",
        "    with torch.no_grad():\n",
        "        for images, labels in val_loader:\n",
        "            images, labels = images.to(device), labels.float().to(device)\n",
        "            labels = labels.view(-1, 1)\n",
        "\n",
        "            outputs = model(images)\n",
        "            loss = criterion(outputs, labels)\n",
        "            val_loss += loss.item()\n",
        "\n",
        "            predicted = (outputs > 0.5).float()\n",
        "            val_correct += (predicted == labels).sum().item()\n",
        "            val_total += labels.size(0)\n",
        "\n",
        "    avg_val_loss = val_loss / len(val_loader)\n",
        "    val_acc = val_correct / val_total\n",
        "    return avg_val_loss, val_acc\n"
      ],
      "metadata": {
        "id": "6ewh-At0rqqo"
      },
      "execution_count": 12,
      "outputs": []
    },
    {
      "cell_type": "code",
      "source": [
        "num_epochs = 10  # Number of epochs\n",
        "best_val_loss = float(\"inf\")  # Track the best validation loss\n",
        "\n",
        "for epoch in range(num_epochs):\n",
        "    print(f\"\\nEpoch {epoch+1}/{num_epochs}\")\n",
        "\n",
        "    # Train for one epoch\n",
        "    train_loss, train_acc = train_one_epoch(model, train_loader, optimizer, criterion, device)\n",
        "    print(f\"Train Loss: {train_loss:.4f}, Accuracy: {train_acc:.4f}\")\n",
        "\n",
        "    # Validate after each epoch\n",
        "    val_loss, val_acc = validate(model, val_loader, criterion, device)\n",
        "    print(f\"Validation Loss: {val_loss:.4f}, Accuracy: {val_acc:.4f}\")\n",
        "\n",
        "    # Save the best model\n",
        "    if val_loss < best_val_loss:\n",
        "        best_val_loss = val_loss\n",
        "        torch.save(model.state_dict(), \"/content/drive/MyDrive/deepfake_efficientnet_best.pth\")\n",
        "        print(\"✅ Best model saved!\")\n",
        "\n",
        "print(\"\\nTraining Complete! 🚀\")\n"
      ],
      "metadata": {
        "colab": {
          "base_uri": "https://localhost:8080/"
        },
        "id": "wCw4Z6xar2Xf",
        "outputId": "0d5be016-d3ef-4e93-f77a-bb38f3a6c387"
      },
      "execution_count": 13,
      "outputs": [
        {
          "output_type": "stream",
          "name": "stdout",
          "text": [
            "\n",
            "Epoch 1/10\n"
          ]
        },
        {
          "output_type": "stream",
          "name": "stderr",
          "text": [
            "100%|██████████| 330/330 [20:15<00:00,  3.68s/it]"
          ]
        },
        {
          "output_type": "stream",
          "name": "stdout",
          "text": [
            "Train Loss: 0.5131, Accuracy: 0.7293\n"
          ]
        },
        {
          "output_type": "stream",
          "name": "stderr",
          "text": [
            "\n"
          ]
        },
        {
          "output_type": "stream",
          "name": "stdout",
          "text": [
            "Validation Loss: 0.4490, Accuracy: 0.7551\n",
            "✅ Best model saved!\n",
            "\n",
            "Epoch 2/10\n"
          ]
        },
        {
          "output_type": "stream",
          "name": "stderr",
          "text": [
            "100%|██████████| 330/330 [04:33<00:00,  1.21it/s]"
          ]
        },
        {
          "output_type": "stream",
          "name": "stdout",
          "text": [
            "Train Loss: 0.4269, Accuracy: 0.7797\n"
          ]
        },
        {
          "output_type": "stream",
          "name": "stderr",
          "text": [
            "\n"
          ]
        },
        {
          "output_type": "stream",
          "name": "stdout",
          "text": [
            "Validation Loss: 0.3926, Accuracy: 0.7908\n",
            "✅ Best model saved!\n",
            "\n",
            "Epoch 3/10\n"
          ]
        },
        {
          "output_type": "stream",
          "name": "stderr",
          "text": [
            "100%|██████████| 330/330 [04:25<00:00,  1.24it/s]"
          ]
        },
        {
          "output_type": "stream",
          "name": "stdout",
          "text": [
            "Train Loss: 0.3742, Accuracy: 0.8136\n"
          ]
        },
        {
          "output_type": "stream",
          "name": "stderr",
          "text": [
            "\n"
          ]
        },
        {
          "output_type": "stream",
          "name": "stdout",
          "text": [
            "Validation Loss: 0.3602, Accuracy: 0.8178\n",
            "✅ Best model saved!\n",
            "\n",
            "Epoch 4/10\n"
          ]
        },
        {
          "output_type": "stream",
          "name": "stderr",
          "text": [
            "100%|██████████| 330/330 [04:25<00:00,  1.24it/s]"
          ]
        },
        {
          "output_type": "stream",
          "name": "stdout",
          "text": [
            "Train Loss: 0.3228, Accuracy: 0.8448\n"
          ]
        },
        {
          "output_type": "stream",
          "name": "stderr",
          "text": [
            "\n"
          ]
        },
        {
          "output_type": "stream",
          "name": "stdout",
          "text": [
            "Validation Loss: 0.3318, Accuracy: 0.8314\n",
            "✅ Best model saved!\n",
            "\n",
            "Epoch 5/10\n"
          ]
        },
        {
          "output_type": "stream",
          "name": "stderr",
          "text": [
            "100%|██████████| 330/330 [04:24<00:00,  1.25it/s]"
          ]
        },
        {
          "output_type": "stream",
          "name": "stdout",
          "text": [
            "Train Loss: 0.2887, Accuracy: 0.8624\n"
          ]
        },
        {
          "output_type": "stream",
          "name": "stderr",
          "text": [
            "\n"
          ]
        },
        {
          "output_type": "stream",
          "name": "stdout",
          "text": [
            "Validation Loss: 0.3150, Accuracy: 0.8440\n",
            "✅ Best model saved!\n",
            "\n",
            "Epoch 6/10\n"
          ]
        },
        {
          "output_type": "stream",
          "name": "stderr",
          "text": [
            "100%|██████████| 330/330 [04:31<00:00,  1.22it/s]"
          ]
        },
        {
          "output_type": "stream",
          "name": "stdout",
          "text": [
            "Train Loss: 0.2584, Accuracy: 0.8788\n"
          ]
        },
        {
          "output_type": "stream",
          "name": "stderr",
          "text": [
            "\n"
          ]
        },
        {
          "output_type": "stream",
          "name": "stdout",
          "text": [
            "Validation Loss: 0.2799, Accuracy: 0.8599\n",
            "✅ Best model saved!\n",
            "\n",
            "Epoch 7/10\n"
          ]
        },
        {
          "output_type": "stream",
          "name": "stderr",
          "text": [
            "100%|██████████| 330/330 [04:28<00:00,  1.23it/s]"
          ]
        },
        {
          "output_type": "stream",
          "name": "stdout",
          "text": [
            "Train Loss: 0.2251, Accuracy: 0.8947\n"
          ]
        },
        {
          "output_type": "stream",
          "name": "stderr",
          "text": [
            "\n"
          ]
        },
        {
          "output_type": "stream",
          "name": "stdout",
          "text": [
            "Validation Loss: 0.2877, Accuracy: 0.8569\n",
            "\n",
            "Epoch 8/10\n"
          ]
        },
        {
          "output_type": "stream",
          "name": "stderr",
          "text": [
            "100%|██████████| 330/330 [04:25<00:00,  1.24it/s]"
          ]
        },
        {
          "output_type": "stream",
          "name": "stdout",
          "text": [
            "Train Loss: 0.1895, Accuracy: 0.9127\n"
          ]
        },
        {
          "output_type": "stream",
          "name": "stderr",
          "text": [
            "\n"
          ]
        },
        {
          "output_type": "stream",
          "name": "stdout",
          "text": [
            "Validation Loss: 0.2913, Accuracy: 0.8713\n",
            "\n",
            "Epoch 9/10\n"
          ]
        },
        {
          "output_type": "stream",
          "name": "stderr",
          "text": [
            "100%|██████████| 330/330 [04:20<00:00,  1.27it/s]"
          ]
        },
        {
          "output_type": "stream",
          "name": "stdout",
          "text": [
            "Train Loss: 0.1760, Accuracy: 0.9248\n"
          ]
        },
        {
          "output_type": "stream",
          "name": "stderr",
          "text": [
            "\n"
          ]
        },
        {
          "output_type": "stream",
          "name": "stdout",
          "text": [
            "Validation Loss: 0.3093, Accuracy: 0.8648\n",
            "\n",
            "Epoch 10/10\n"
          ]
        },
        {
          "output_type": "stream",
          "name": "stderr",
          "text": [
            "100%|██████████| 330/330 [04:30<00:00,  1.22it/s]"
          ]
        },
        {
          "output_type": "stream",
          "name": "stdout",
          "text": [
            "Train Loss: 0.1509, Accuracy: 0.9332\n"
          ]
        },
        {
          "output_type": "stream",
          "name": "stderr",
          "text": [
            "\n"
          ]
        },
        {
          "output_type": "stream",
          "name": "stdout",
          "text": [
            "Validation Loss: 0.3116, Accuracy: 0.8717\n",
            "\n",
            "Training Complete! 🚀\n"
          ]
        }
      ]
    },
    {
      "cell_type": "code",
      "source": [
        "import torch\n",
        "import torch.nn.functional as F\n",
        "from sklearn.metrics import accuracy_score, classification_report, confusion_matrix, roc_auc_score\n",
        "from torchvision import datasets, transforms\n",
        "from torch.utils.data import DataLoader\n",
        "import os\n",
        "\n",
        "# Define test data path\n",
        "test_data_path = \"/content/drive/MyDrive/deepfake_dataset/train_data\"  # Change if using a separate test dataset\n",
        "\n",
        "# Define transformations (same as training)\n",
        "transform = transforms.Compose([\n",
        "    transforms.Resize((224, 224)),\n",
        "    transforms.ToTensor(),\n",
        "    transforms.Normalize(mean=[0.5, 0.5, 0.5], std=[0.5, 0.5, 0.5])\n",
        "])\n",
        "\n",
        "# Load test dataset\n",
        "test_dataset = datasets.ImageFolder(root=test_data_path, transform=transform)\n",
        "test_loader = DataLoader(test_dataset, batch_size=32, shuffle=False, num_workers=2)\n",
        "\n",
        "# Check if GPU is available\n",
        "device = torch.device(\"cuda\" if torch.cuda.is_available() else \"cpu\")\n",
        "\n",
        "# Load the trained model\n",
        "model = models.efficientnet_b0(pretrained=False)  # Initialize model\n",
        "num_ftrs = model.classifier[1].in_features\n",
        "model.classifier = torch.nn.Sequential(\n",
        "    torch.nn.Linear(num_ftrs, 1),\n",
        "    torch.nn.Sigmoid()\n",
        ")\n",
        "\n",
        "# Load trained weights\n",
        "model.load_state_dict(torch.load(\"/content/drive/MyDrive/deepfake_efficientnet_best.pth\", map_location=device))\n",
        "model.to(device)\n",
        "model.eval()  # Set model to evaluation mode\n",
        "\n",
        "# Initialize lists for evaluation\n",
        "y_true = []\n",
        "y_pred = []\n",
        "y_scores = []  # Stores probabilities for ROC-AUC calculation\n",
        "\n",
        "# Disable gradient computation for evaluation\n",
        "with torch.no_grad():\n",
        "    for images, labels in test_loader:\n",
        "        images, labels = images.to(device), labels.to(device)\n",
        "\n",
        "        # Forward pass\n",
        "        outputs = model(images)\n",
        "        probabilities = outputs.cpu().numpy().flatten()  # Convert to NumPy array\n",
        "        predicted_classes = (outputs > 0.5).cpu().numpy().astype(int).flatten()  # Threshold at 0.5\n",
        "\n",
        "        # Store true labels and predictions\n",
        "        y_true.extend(labels.cpu().numpy())\n",
        "        y_pred.extend(predicted_classes)\n",
        "        y_scores.extend(probabilities)  # Store probability for ROC-AUC\n",
        "\n",
        "# Compute Accuracy\n",
        "accuracy = accuracy_score(y_true, y_pred)\n",
        "print(f\"✅ Test Accuracy: {accuracy * 100:.2f}%\")\n",
        "\n",
        "# Print Classification Report\n",
        "print(\"\\n📌 Classification Report:\")\n",
        "print(classification_report(y_true, y_pred, target_names=['Fake', 'Real']))\n",
        "\n",
        "# Print Confusion Matrix\n",
        "print(\"\\n📌 Confusion Matrix:\")\n",
        "print(confusion_matrix(y_true, y_pred))\n",
        "\n",
        "# Compute ROC-AUC Score\n",
        "roc_auc = roc_auc_score(y_true, y_scores)\n",
        "print(f\"\\n📌 ROC-AUC Score: {roc_auc:.4f}\")\n"
      ],
      "metadata": {
        "colab": {
          "base_uri": "https://localhost:8080/"
        },
        "id": "ecKGDibH9Xb2",
        "outputId": "6dcfe61a-dfeb-4846-e86a-ebf5fdf01172"
      },
      "execution_count": 18,
      "outputs": [
        {
          "output_type": "stream",
          "name": "stderr",
          "text": [
            "/usr/local/lib/python3.11/dist-packages/torchvision/models/_utils.py:208: UserWarning: The parameter 'pretrained' is deprecated since 0.13 and may be removed in the future, please use 'weights' instead.\n",
            "  warnings.warn(\n",
            "/usr/local/lib/python3.11/dist-packages/torchvision/models/_utils.py:223: UserWarning: Arguments other than a weight enum or `None` for 'weights' are deprecated since 0.13 and may be removed in the future. The current behavior is equivalent to passing `weights=None`.\n",
            "  warnings.warn(msg)\n",
            "<ipython-input-18-833ff938fbdf>:34: FutureWarning: You are using `torch.load` with `weights_only=False` (the current default value), which uses the default pickle module implicitly. It is possible to construct malicious pickle data which will execute arbitrary code during unpickling (See https://github.com/pytorch/pytorch/blob/main/SECURITY.md#untrusted-models for more details). In a future release, the default value for `weights_only` will be flipped to `True`. This limits the functions that could be executed during unpickling. Arbitrary objects will no longer be allowed to be loaded via this mode unless they are explicitly allowlisted by the user via `torch.serialization.add_safe_globals`. We recommend you start setting `weights_only=True` for any use case where you don't have full control of the loaded file. Please open an issue on GitHub for any issues related to this experimental feature.\n",
            "  model.load_state_dict(torch.load(\"/content/drive/MyDrive/deepfake_efficientnet_best.pth\", map_location=device))\n"
          ]
        },
        {
          "output_type": "stream",
          "name": "stdout",
          "text": [
            "✅ Test Accuracy: 90.36%\n",
            "\n",
            "📌 Classification Report:\n",
            "              precision    recall  f1-score   support\n",
            "\n",
            "        Fake       0.85      0.96      0.90      6019\n",
            "        Real       0.97      0.85      0.91      7150\n",
            "\n",
            "    accuracy                           0.90     13169\n",
            "   macro avg       0.91      0.91      0.90     13169\n",
            "weighted avg       0.91      0.90      0.90     13169\n",
            "\n",
            "\n",
            "📌 Confusion Matrix:\n",
            "[[5802  217]\n",
            " [1053 6097]]\n",
            "\n",
            "📌 ROC-AUC Score: 0.9748\n"
          ]
        }
      ]
    },
    {
      "cell_type": "code",
      "source": [
        "import seaborn as sns\n",
        "import numpy as np\n",
        "import matplotlib.pyplot as plt\n",
        "from sklearn.metrics import confusion_matrix\n",
        "\n",
        "# Compute Confusion Matrix\n",
        "cm = confusion_matrix(y_true, y_pred, normalize=\"true\")  # Normalized per row\n",
        "\n",
        "plt.figure(figsize=(6, 5))\n",
        "sns.heatmap(cm, annot=True, fmt=\".2f\", cmap=\"Blues\", xticklabels=[\"Fake\", \"Real\"], yticklabels=[\"Fake\", \"Real\"])\n",
        "plt.xlabel(\"Predicted Label\")\n",
        "plt.ylabel(\"True Label\")\n",
        "plt.title(\"Normalized Confusion Matrix\")\n",
        "plt.savefig(\"/content/drive/MyDrive/normalized_confusion_matrix.png\")\n",
        "plt.show()\n",
        "\n",
        "print(\"✅ Normalized Confusion Matrix saved as normalized_confusion_matrix.png\")\n"
      ],
      "metadata": {
        "colab": {
          "base_uri": "https://localhost:8080/",
          "height": 503
        },
        "id": "bmgB9EkhC1bj",
        "outputId": "ff77444e-5235-4b9c-b755-9ddc1b3aaa06"
      },
      "execution_count": 19,
      "outputs": [
        {
          "output_type": "display_data",
          "data": {
            "text/plain": [
              "<Figure size 600x500 with 2 Axes>"
            ],
            "image/png": "[encoded data removed]"
          },
          "metadata": {}
        },
        {
          "output_type": "stream",
          "name": "stdout",
          "text": [
            "✅ Normalized Confusion Matrix saved as normalized_confusion_matrix.png\n"
          ]
        }
      ]
    },
    {
      "cell_type": "code",
      "source": [
        "# Compute Confusion Matrix (Standard)\n",
        "cm = confusion_matrix(y_true, y_pred)\n",
        "\n",
        "plt.figure(figsize=(6, 5))\n",
        "sns.heatmap(cm, annot=True, fmt=\"d\", cmap=\"Blues\", xticklabels=[\"Fake\", \"Real\"], yticklabels=[\"Fake\", \"Real\"])\n",
        "plt.xlabel(\"Predicted Label\")\n",
        "plt.ylabel(\"True Label\")\n",
        "plt.title(\"Confusion Matrix\")\n",
        "plt.savefig(\"/content/drive/MyDrive/confusion_matrix.png\")\n",
        "plt.show()\n",
        "\n",
        "print(\"✅ Confusion Matrix saved as confusion_matrix.png\")\n"
      ],
      "metadata": {
        "colab": {
          "base_uri": "https://localhost:8080/",
          "height": 503
        },
        "id": "MN9sWL4gC39P",
        "outputId": "8cf6a75a-202e-4ee2-c4ec-eb7344242c6a"
      },
      "execution_count": 20,
      "outputs": [
        {
          "output_type": "display_data",
          "data": {
            "text/plain": [
              "<Figure size 600x500 with 2 Axes>"
            ],
            "image/png": "[encoded data removed]"
          },
          "metadata": {}
        },
        {
          "output_type": "stream",
          "name": "stdout",
          "text": [
            "✅ Confusion Matrix saved as confusion_matrix.png\n"
          ]
        }
      ]
    },
    {
      "cell_type": "code",
      "source": [
        "# Extract F1-scores\n",
        "from sklearn.metrics import classification_report\n",
        "\n",
        "report = classification_report(y_true, y_pred, target_names=[\"Fake\", \"Real\"], output_dict=True)\n",
        "f1_scores = [report[\"Fake\"][\"f1-score\"], report[\"Real\"][\"f1-score\"]]\n",
        "labels = [\"Fake\", \"Real\"]\n",
        "\n",
        "plt.figure(figsize=(6, 4))\n",
        "plt.bar(labels, f1_scores, color=[\"red\", \"blue\"])\n",
        "plt.xlabel(\"Class\")\n",
        "plt.ylabel(\"F1 Score\")\n",
        "plt.title(\"F1-Scores for Fake and Real Classes\")\n",
        "plt.ylim(0, 1)\n",
        "plt.savefig(\"/content/drive/MyDrive/f1_curve.png\")\n",
        "plt.show()\n",
        "\n",
        "print(\"✅ F1 Curve saved as f1_curve.png\")\n"
      ],
      "metadata": {
        "colab": {
          "base_uri": "https://localhost:8080/",
          "height": 425
        },
        "id": "uPcDKQheC5-7",
        "outputId": "79667c5e-40a1-45b2-e335-a205f2284b09"
      },
      "execution_count": 21,
      "outputs": [
        {
          "output_type": "display_data",
          "data": {
            "text/plain": [
              "<Figure size 600x400 with 1 Axes>"
            ],
            "image/png": "[encoded data removed]"
          },
          "metadata": {}
        },
        {
          "output_type": "stream",
          "name": "stdout",
          "text": [
            "✅ F1 Curve saved as f1_curve.png\n"
          ]
        }
      ]
    },
    {
      "cell_type": "code",
      "source": [
        "# Extract Precision Scores\n",
        "precision_scores = [report[\"Fake\"][\"precision\"], report[\"Real\"][\"precision\"]]\n",
        "\n",
        "plt.figure(figsize=(6, 4))\n",
        "plt.bar(labels, precision_scores, color=[\"green\", \"orange\"])\n",
        "plt.xlabel(\"Class\")\n",
        "plt.ylabel(\"Precision Score\")\n",
        "plt.title(\"Precision Scores for Fake and Real Classes\")\n",
        "plt.ylim(0, 1)\n",
        "plt.savefig(\"/content/drive/MyDrive/p_curve.png\")\n",
        "plt.show()\n",
        "\n",
        "print(\"✅ Precision Curve saved as p_curve.png\")\n"
      ],
      "metadata": {
        "colab": {
          "base_uri": "https://localhost:8080/",
          "height": 425
        },
        "id": "q3EtATa8C8RS",
        "outputId": "5c4f0335-e6ce-439f-cb75-dd41b7a52b8d"
      },
      "execution_count": 22,
      "outputs": [
        {
          "output_type": "display_data",
          "data": {
            "text/plain": [
              "<Figure size 600x400 with 1 Axes>"
            ],
            "image/png": "[encoded data removed]"
          },
          "metadata": {}
        },
        {
          "output_type": "stream",
          "name": "stdout",
          "text": [
            "✅ Precision Curve saved as p_curve.png\n"
          ]
        }
      ]
    },
    {
      "cell_type": "code",
      "source": [
        "# Extract Recall Scores\n",
        "recall_scores = [report[\"Fake\"][\"recall\"], report[\"Real\"][\"recall\"]]\n",
        "\n",
        "plt.figure(figsize=(6, 4))\n",
        "plt.bar(labels, recall_scores, color=[\"purple\", \"cyan\"])\n",
        "plt.xlabel(\"Class\")\n",
        "plt.ylabel(\"Recall Score\")\n",
        "plt.title(\"Recall Scores for Fake and Real Classes\")\n",
        "plt.ylim(0, 1)\n",
        "plt.savefig(\"/content/drive/MyDrive/r_curve.png\")\n",
        "plt.show()\n",
        "\n",
        "print(\"✅ Recall Curve saved as r_curve.png\")\n"
      ],
      "metadata": {
        "colab": {
          "base_uri": "https://localhost:8080/",
          "height": 425
        },
        "id": "EjUIMv5hC_Zm",
        "outputId": "49221889-b321-4255-9900-1c0d5b63cc83"
      },
      "execution_count": 23,
      "outputs": [
        {
          "output_type": "display_data",
          "data": {
            "text/plain": [
              "<Figure size 600x400 with 1 Axes>"
            ],
            "image/png": "[encoded data removed]"
          },
          "metadata": {}
        },
        {
          "output_type": "stream",
          "name": "stdout",
          "text": [
            "✅ Recall Curve saved as r_curve.png\n"
          ]
        }
      ]
    },
    {
      "cell_type": "code",
      "source": [
        "from sklearn.metrics import precision_recall_curve\n",
        "\n",
        "# Compute Precision-Recall\n",
        "precision, recall, _ = precision_recall_curve(y_true, y_scores)\n",
        "\n",
        "plt.figure(figsize=(6, 5))\n",
        "plt.plot(recall, precision, marker=\".\", color=\"blue\", label=\"PR Curve\")\n",
        "plt.xlabel(\"Recall\")\n",
        "plt.ylabel(\"Precision\")\n",
        "plt.title(\"Precision-Recall Curve\")\n",
        "plt.legend()\n",
        "plt.savefig(\"/content/drive/MyDrive/pr_curve.png\")\n",
        "plt.show()\n",
        "\n",
        "print(\"✅ PR Curve saved as pr_curve.png\")\n"
      ],
      "metadata": {
        "colab": {
          "base_uri": "https://localhost:8080/",
          "height": 503
        },
        "id": "GkYAkUXvDC1y",
        "outputId": "fb96adbc-fed9-46df-bb30-b26b5b0bb776"
      },
      "execution_count": 24,
      "outputs": [
        {
          "output_type": "display_data",
          "data": {
            "text/plain": [
              "<Figure size 600x500 with 1 Axes>"
            ],
            "image/png": "[encoded data removed]"
          },
          "metadata": {}
        },
        {
          "output_type": "stream",
          "name": "stdout",
          "text": [
            "✅ PR Curve saved as pr_curve.png\n"
          ]
        }
      ]
    },
    {
      "cell_type": "code",
      "source": [
        "import pandas as pd\n",
        "\n",
        "# Save classification report as CSV\n",
        "df_results = pd.DataFrame(report).transpose()\n",
        "df_results.to_csv(\"/content/drive/MyDrive/results.csv\", index=True)\n",
        "\n",
        "print(\"✅ Results saved as results.csv\")\n"
      ],
      "metadata": {
        "colab": {
          "base_uri": "https://localhost:8080/"
        },
        "id": "MZo54fKODGd8",
        "outputId": "7ba600c9-3c06-4087-b356-18fd9ccc97cc"
      },
      "execution_count": 25,
      "outputs": [
        {
          "output_type": "stream",
          "name": "stdout",
          "text": [
            "✅ Results saved as results.csv\n"
          ]
        }
      ]
    },
    {
      "cell_type": "code",
      "source": [
        "metrics = [\"Precision\", \"Recall\", \"F1-score\"]\n",
        "fake_metrics = [report[\"Fake\"][\"precision\"], report[\"Fake\"][\"recall\"], report[\"Fake\"][\"f1-score\"]]\n",
        "real_metrics = [report[\"Real\"][\"precision\"], report[\"Real\"][\"recall\"], report[\"Real\"][\"f1-score\"]]\n",
        "\n",
        "x = np.arange(len(metrics))\n",
        "width = 0.35\n",
        "\n",
        "fig, ax = plt.subplots(figsize=(7, 5))\n",
        "bars1 = ax.bar(x - width/2, fake_metrics, width, label=\"Fake\", color=\"red\")\n",
        "bars2 = ax.bar(x + width/2, real_metrics, width, label=\"Real\", color=\"blue\")\n",
        "\n",
        "ax.set_xlabel(\"Metrics\")\n",
        "ax.set_ylabel(\"Scores\")\n",
        "ax.set_title(\"Evaluation Metrics\")\n",
        "ax.set_xticks(x)\n",
        "ax.set_xticklabels(metrics)\n",
        "ax.legend()\n",
        "\n",
        "plt.savefig(\"/content/drive/MyDrive/results.png\")\n",
        "plt.show()\n",
        "\n",
        "print(\"✅ Results Plot saved as results.png\")\n"
      ],
      "metadata": {
        "colab": {
          "base_uri": "https://localhost:8080/",
          "height": 503
        },
        "id": "f_HJS8jEDHFN",
        "outputId": "5436048e-f92f-46b3-9e45-bb440d9ebe3f"
      },
      "execution_count": 26,
      "outputs": [
        {
          "output_type": "display_data",
          "data": {
            "text/plain": [
              "<Figure size 700x500 with 1 Axes>"
            ],
            "image/png": "[encoded data removed]"
          },
          "metadata": {}
        },
        {
          "output_type": "stream",
          "name": "stdout",
          "text": [
            "✅ Results Plot saved as results.png\n"
          ]
        }
      ]
    }
  ]
}